{
  "cells": [
    {
      "cell_type": "code",
      "execution_count": null,
      "metadata": {
        "id": "B8-WZodE-0F9",
        "colab": {
          "base_uri": "https://localhost:8080/"
        },
        "outputId": "aee8f093-0118-41d1-fc1e-e87a3db8e25c"
      },
      "outputs": [
        {
          "output_type": "stream",
          "name": "stdout",
          "text": [
            "Looking in indexes: https://pypi.org/simple, https://us-python.pkg.dev/colab-wheels/public/simple/\n",
            "Collecting stackapi\n",
            "  Downloading StackAPI-0.2.0.tar.gz (5.6 kB)\n",
            "Requirement already satisfied: requests in /usr/local/lib/python3.7/dist-packages (from stackapi) (2.23.0)\n",
            "Requirement already satisfied: six in /usr/local/lib/python3.7/dist-packages (from stackapi) (1.15.0)\n",
            "Requirement already satisfied: idna<3,>=2.5 in /usr/local/lib/python3.7/dist-packages (from requests->stackapi) (2.10)\n",
            "Requirement already satisfied: certifi>=2017.4.17 in /usr/local/lib/python3.7/dist-packages (from requests->stackapi) (2022.6.15)\n",
            "Requirement already satisfied: urllib3!=1.25.0,!=1.25.1,<1.26,>=1.21.1 in /usr/local/lib/python3.7/dist-packages (from requests->stackapi) (1.24.3)\n",
            "Requirement already satisfied: chardet<4,>=3.0.2 in /usr/local/lib/python3.7/dist-packages (from requests->stackapi) (3.0.4)\n",
            "Building wheels for collected packages: stackapi\n",
            "  Building wheel for stackapi (setup.py) ... \u001b[?25l\u001b[?25hdone\n",
            "  Created wheel for stackapi: filename=StackAPI-0.2.0-py3-none-any.whl size=5858 sha256=94cf7f569b0a0afb7c981e35276600d693feb93b078daab2716f62b3b3af0206\n",
            "  Stored in directory: /root/.cache/pip/wheels/ec/db/60/df42a65853e3581c26a2fbb2012a228cb8e267369a3b9ca44d\n",
            "Successfully built stackapi\n",
            "Installing collected packages: stackapi\n",
            "Successfully installed stackapi-0.2.0\n"
          ]
        }
      ],
      "source": [
        "!pip install stackapi\n",
        "import pickle\n",
        "from stackapi import StackAPI\n",
        "# This is used to collect all users from stackAPI\n",
        "SITE = StackAPI('stackoverflow')\n",
        "users = SITE.fetch('users')\n",
        "user_id=[]\n",
        "# This is used to collect userID's by iterating\n",
        "for i in range(len(users['items'])):\n",
        "  user_id.append(str(users['items'][i]['user_id']))\n",
        "# by passing user id through api and collecting tags for developers\n",
        "user_tags_dict={}\n",
        "count=1;\n",
        "for i in user_id:\n",
        "  count=count+1\n",
        "  print(count)\n",
        "  SITE = StackAPI('stackoverflow',key='44hpaaJESWN4fN22RgRZTg((')\n",
        "  comments = SITE.fetch('users/{id}/top-answer-tags',id=[i])\n",
        "  one_user_tag=[]\n",
        "# after collecting tags, we add them to dictionary\n",
        "for j in range(len(comments['items'])):\n",
        "  one_user_tag.append(str(comments['items'][j][\"tag_name\"]))\n",
        "user_tags_dict[i]=one_user_tag"
      ]
    },
    {
      "cell_type": "code",
      "execution_count": null,
      "metadata": {
        "id": "FymYPCOQ-06D"
      },
      "outputs": [],
      "source": [
        "# dumping userid into python dictionary using pickle\n",
        "file_name='User_Id.pkl'\n",
        "f = open(file_name,'wb')\n",
        "pickle.dump(user_id,f)\n",
        "f.close()\n",
        "\n",
        "# dumping userid with tags into python dictionary\n",
        "file_name='user_tags_dict.pkl'\n",
        "f = open(file_name,'wb')\n",
        "pickle.dump(user_tags_dict,f)\n",
        "f.close()\n",
        "\n",
        "list_tags=list(user_tags_dict.values())\n",
        "\n",
        "total_tags_users=[]\n",
        "for i in range(len(list_tags)):\n",
        "  total_tags_users.extend(list_tags[i][0:15])\n",
        "\n",
        "unique_combined_tags_users=set(total_tags_users)\n",
        "# loading total user tags pickle file\n",
        "with open('total_tags_users.pkl', 'wb') as f:\n",
        "  pickle.dump(total_tags_users, f)\n",
        "\n",
        "#  loading unique combined tags for user uisng pickle\n",
        "with open('unique_combined_tags_users.pkl', 'wb') as f:\n",
        "  pickle.dump(unique_combined_tags_users, f)\n",
        "unique_tags_dict_wiki={}\n",
        "empty_tags_wiki=[]\n",
        "\n",
        "\n",
        "# collecting tags discription using api\n",
        "for i in unique_combined_tags_users:\n",
        "  if i not in unique_tags_dict_wiki.keys() and i not in empty_tags_wiki:\n",
        "    print(i)\n",
        "    SITE = StackAPI('stackoverflow',key='44hpaaJESWN4fN22RgRZTg((')\n",
        "    comments = SITE.fetch('tags/{tags}/wikis',tags=[i])\n",
        "    try:\n",
        "      unique_tags_dict_wiki[i]=comments['items'][0]['excerpt']\n",
        "    except:\n",
        "      empty_tags_wiki.append(i)\n",
        "\n",
        "# dumping all tags diescription using pickle format\n",
        "file_name='unique_tags_dict_wiki.pkl'\n",
        "f = open(file_name,'wb')\n",
        "pickle.dump(unique_tags_dict_wiki,f)\n",
        "f.close()"
      ]
    }
  ],
  "metadata": {
    "colab": {
      "provenance": []
    },
    "kernelspec": {
      "display_name": "Python 3",
      "name": "python3"
    },
    "language_info": {
      "name": "python"
    }
  },
  "nbformat": 4,
  "nbformat_minor": 0
}