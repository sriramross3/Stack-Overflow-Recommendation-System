{
  "cells": [
    {
      "cell_type": "code",
      "execution_count": 1,
      "metadata": {
        "id": "B8-WZodE-0F9",
        "colab": {
          "base_uri": "https://localhost:8080/"
        },
        "outputId": "aee8f093-0118-41d1-fc1e-e87a3db8e25c"
      },
      "outputs": [
        {
          "output_type": "stream",
          "name": "stdout",
          "text": [
            "Looking in indexes: https://pypi.org/simple, https://us-python.pkg.dev/colab-wheels/public/simple/\n",
            "Collecting stackapi\n",
            "  Downloading StackAPI-0.2.0.tar.gz (5.6 kB)\n",
            "Requirement already satisfied: requests in /usr/local/lib/python3.7/dist-packages (from stackapi) (2.23.0)\n",
            "Requirement already satisfied: six in /usr/local/lib/python3.7/dist-packages (from stackapi) (1.15.0)\n",
            "Requirement already satisfied: idna<3,>=2.5 in /usr/local/lib/python3.7/dist-packages (from requests->stackapi) (2.10)\n",
            "Requirement already satisfied: certifi>=2017.4.17 in /usr/local/lib/python3.7/dist-packages (from requests->stackapi) (2022.6.15)\n",
            "Requirement already satisfied: urllib3!=1.25.0,!=1.25.1,<1.26,>=1.21.1 in /usr/local/lib/python3.7/dist-packages (from requests->stackapi) (1.24.3)\n",
            "Requirement already satisfied: chardet<4,>=3.0.2 in /usr/local/lib/python3.7/dist-packages (from requests->stackapi) (3.0.4)\n",
            "Building wheels for collected packages: stackapi\n",
            "  Building wheel for stackapi (setup.py) ... \u001b[?25l\u001b[?25hdone\n",
            "  Created wheel for stackapi: filename=StackAPI-0.2.0-py3-none-any.whl size=5858 sha256=94cf7f569b0a0afb7c981e35276600d693feb93b078daab2716f62b3b3af0206\n",
            "  Stored in directory: /root/.cache/pip/wheels/ec/db/60/df42a65853e3581c26a2fbb2012a228cb8e267369a3b9ca44d\n",
            "Successfully built stackapi\n",
            "Installing collected packages: stackapi\n",
            "Successfully installed stackapi-0.2.0\n"
          ]
        }
      ],
      "source": [
        "!pip install stackapi"
      ]
    },
    {
      "cell_type": "code",
      "execution_count": 2,
      "metadata": {
        "id": "FymYPCOQ-06D"
      },
      "outputs": [],
      "source": [
        "from stackapi import StackAPI\n",
        "SITE = StackAPI('stackoverflow')"
      ]
    },
    {
      "cell_type": "code",
      "execution_count": 3,
      "metadata": {
        "id": "NSZMhAIJCyRo"
      },
      "outputs": [],
      "source": [
        "SITE = StackAPI('stackoverflow')\n",
        "users = SITE.fetch('users')"
      ]
    },
    {
      "cell_type": "code",
      "execution_count": 4,
      "metadata": {
        "id": "mm1pR7IF2HxK"
      },
      "outputs": [],
      "source": [
        "user_id=[]\n",
        "for i in range(len(users['items'])):\n",
        "  user_id.append(str(users['items'][i]['user_id']))"
      ]
    },
    {
      "cell_type": "code",
      "source": [
        "user_id[0]\n",
        "# comments = SITE.fetch('users/{id}/top-answer-tags',id=['22656'])"
      ],
      "metadata": {
        "colab": {
          "base_uri": "https://localhost:8080/",
          "height": 35
        },
        "id": "on2ENSvbfchY",
        "outputId": "5a62f3ca-f05f-4963-e07f-2cdaff097c4c"
      },
      "execution_count": 5,
      "outputs": [
        {
          "output_type": "execute_result",
          "data": {
            "text/plain": [
              "'22656'"
            ],
            "application/vnd.google.colaboratory.intrinsic+json": {
              "type": "string"
            }
          },
          "metadata": {},
          "execution_count": 5
        }
      ]
    },
    {
      "cell_type": "code",
      "source": [
        "comments['items'][2]['tag_name']"
      ],
      "metadata": {
        "colab": {
          "base_uri": "https://localhost:8080/",
          "height": 165
        },
        "id": "PFlTdIERfoC-",
        "outputId": "0ab199b4-164d-4b47-8906-6526df94bf64"
      },
      "execution_count": 7,
      "outputs": [
        {
          "output_type": "error",
          "ename": "NameError",
          "evalue": "ignored",
          "traceback": [
            "\u001b[0;31m---------------------------------------------------------------------------\u001b[0m",
            "\u001b[0;31mNameError\u001b[0m                                 Traceback (most recent call last)",
            "\u001b[0;32m<ipython-input-7-30e000ce1e58>\u001b[0m in \u001b[0;36m<module>\u001b[0;34m()\u001b[0m\n\u001b[0;32m----> 1\u001b[0;31m \u001b[0mcomments\u001b[0m\u001b[0;34m[\u001b[0m\u001b[0;34m'items'\u001b[0m\u001b[0;34m]\u001b[0m\u001b[0;34m[\u001b[0m\u001b[0;36m2\u001b[0m\u001b[0;34m]\u001b[0m\u001b[0;34m[\u001b[0m\u001b[0;34m'tag_name'\u001b[0m\u001b[0;34m]\u001b[0m\u001b[0;34m\u001b[0m\u001b[0;34m\u001b[0m\u001b[0m\n\u001b[0m",
            "\u001b[0;31mNameError\u001b[0m: name 'comments' is not defined"
          ]
        }
      ]
    },
    {
      "cell_type": "code",
      "execution_count": null,
      "metadata": {
        "id": "6V-rWqVL2aRo",
        "colab": {
          "base_uri": "https://localhost:8080/"
        },
        "outputId": "31ba82c5-e254-4ad1-e4fd-12f55c5e718f"
      },
      "outputs": [
        {
          "output_type": "stream",
          "name": "stdout",
          "text": [
            "2\n",
            "3\n",
            "4\n",
            "5\n",
            "6\n",
            "7\n",
            "8\n",
            "9\n",
            "10\n",
            "11\n",
            "12\n",
            "13\n",
            "14\n",
            "15\n",
            "16\n",
            "17\n",
            "18\n",
            "19\n",
            "20\n",
            "21\n",
            "22\n",
            "23\n",
            "24\n",
            "25\n",
            "26\n",
            "27\n",
            "28\n",
            "29\n",
            "30\n",
            "31\n",
            "32\n",
            "33\n",
            "34\n",
            "35\n",
            "36\n",
            "37\n",
            "38\n",
            "39\n",
            "40\n",
            "41\n",
            "42\n",
            "43\n",
            "44\n",
            "45\n",
            "46\n",
            "47\n",
            "48\n",
            "49\n",
            "50\n",
            "51\n",
            "52\n",
            "53\n",
            "54\n",
            "55\n",
            "56\n",
            "57\n",
            "58\n",
            "59\n",
            "60\n",
            "61\n",
            "62\n",
            "63\n",
            "64\n",
            "65\n",
            "66\n",
            "67\n",
            "68\n",
            "69\n",
            "70\n",
            "71\n",
            "72\n",
            "73\n",
            "74\n",
            "75\n",
            "76\n",
            "77\n",
            "78\n",
            "79\n",
            "80\n",
            "81\n",
            "82\n",
            "83\n",
            "84\n",
            "85\n",
            "86\n",
            "87\n",
            "88\n",
            "89\n",
            "90\n",
            "91\n",
            "92\n",
            "93\n",
            "94\n",
            "95\n",
            "96\n",
            "97\n",
            "98\n",
            "99\n",
            "100\n",
            "101\n",
            "102\n",
            "103\n",
            "104\n",
            "105\n",
            "106\n",
            "107\n",
            "108\n",
            "109\n",
            "110\n",
            "111\n",
            "112\n",
            "113\n",
            "114\n",
            "115\n",
            "116\n",
            "117\n",
            "118\n",
            "119\n",
            "120\n",
            "121\n",
            "122\n",
            "123\n",
            "124\n",
            "125\n",
            "126\n",
            "127\n",
            "128\n",
            "129\n",
            "130\n",
            "131\n",
            "132\n",
            "133\n",
            "134\n",
            "135\n",
            "136\n",
            "137\n",
            "138\n",
            "139\n",
            "140\n",
            "141\n",
            "142\n",
            "143\n",
            "144\n",
            "145\n",
            "146\n",
            "147\n",
            "148\n",
            "149\n",
            "150\n",
            "151\n",
            "152\n",
            "153\n",
            "154\n",
            "155\n",
            "156\n",
            "157\n",
            "158\n",
            "159\n",
            "160\n",
            "161\n",
            "162\n",
            "163\n",
            "164\n",
            "165\n",
            "166\n",
            "167\n",
            "168\n",
            "169\n",
            "170\n",
            "171\n",
            "172\n",
            "173\n",
            "174\n",
            "175\n",
            "176\n",
            "177\n",
            "178\n",
            "179\n",
            "180\n",
            "181\n",
            "182\n",
            "183\n",
            "184\n",
            "185\n",
            "186\n",
            "187\n",
            "188\n",
            "189\n",
            "190\n",
            "191\n",
            "192\n",
            "193\n",
            "194\n",
            "195\n",
            "196\n",
            "197\n",
            "198\n",
            "199\n",
            "200\n",
            "201\n",
            "202\n",
            "203\n",
            "204\n",
            "205\n",
            "206\n",
            "207\n",
            "208\n",
            "209\n",
            "210\n",
            "211\n",
            "212\n",
            "213\n",
            "214\n",
            "215\n",
            "216\n",
            "217\n",
            "218\n",
            "219\n",
            "220\n",
            "221\n",
            "222\n",
            "223\n",
            "224\n",
            "225\n",
            "226\n",
            "227\n",
            "228\n",
            "229\n",
            "230\n",
            "231\n",
            "232\n",
            "233\n",
            "234\n",
            "235\n",
            "236\n",
            "237\n",
            "238\n",
            "239\n",
            "240\n",
            "241\n",
            "242\n",
            "243\n",
            "244\n",
            "245\n",
            "246\n",
            "247\n",
            "248\n",
            "249\n",
            "250\n",
            "251\n",
            "252\n",
            "253\n",
            "254\n",
            "255\n",
            "256\n",
            "257\n",
            "258\n",
            "259\n",
            "260\n",
            "261\n",
            "262\n",
            "263\n",
            "264\n",
            "265\n",
            "266\n",
            "267\n",
            "268\n",
            "269\n",
            "270\n",
            "271\n",
            "272\n",
            "273\n",
            "274\n",
            "275\n",
            "276\n",
            "277\n",
            "278\n",
            "279\n",
            "280\n",
            "281\n",
            "282\n",
            "283\n",
            "284\n",
            "285\n",
            "286\n",
            "287\n",
            "288\n",
            "289\n",
            "290\n",
            "291\n",
            "292\n",
            "293\n",
            "294\n",
            "295\n",
            "296\n",
            "297\n",
            "298\n",
            "299\n",
            "300\n",
            "301\n",
            "302\n",
            "303\n",
            "304\n",
            "305\n",
            "306\n",
            "307\n",
            "308\n",
            "309\n",
            "310\n",
            "311\n",
            "312\n",
            "313\n",
            "314\n",
            "315\n",
            "316\n",
            "317\n",
            "318\n",
            "319\n",
            "320\n",
            "321\n",
            "322\n",
            "323\n",
            "324\n",
            "325\n",
            "326\n",
            "327\n",
            "328\n",
            "329\n",
            "330\n",
            "331\n",
            "332\n",
            "333\n",
            "334\n",
            "335\n",
            "336\n",
            "337\n",
            "338\n",
            "339\n",
            "340\n",
            "341\n",
            "342\n",
            "343\n",
            "344\n",
            "345\n",
            "346\n",
            "347\n",
            "348\n",
            "349\n",
            "350\n",
            "351\n",
            "352\n",
            "353\n",
            "354\n",
            "355\n",
            "356\n",
            "357\n",
            "358\n",
            "359\n",
            "360\n",
            "361\n",
            "362\n",
            "363\n",
            "364\n",
            "365\n",
            "366\n",
            "367\n",
            "368\n",
            "369\n",
            "370\n",
            "371\n",
            "372\n",
            "373\n",
            "374\n",
            "375\n",
            "376\n",
            "377\n",
            "378\n",
            "379\n",
            "380\n",
            "381\n",
            "382\n",
            "383\n",
            "384\n",
            "385\n",
            "386\n",
            "387\n",
            "388\n",
            "389\n",
            "390\n",
            "391\n",
            "392\n",
            "393\n",
            "394\n",
            "395\n",
            "396\n",
            "397\n",
            "398\n",
            "399\n",
            "400\n",
            "401\n",
            "402\n",
            "403\n",
            "404\n",
            "405\n",
            "406\n",
            "407\n",
            "408\n",
            "409\n",
            "410\n",
            "411\n",
            "412\n",
            "413\n",
            "414\n",
            "415\n",
            "416\n",
            "417\n",
            "418\n",
            "419\n",
            "420\n",
            "421\n",
            "422\n",
            "423\n",
            "424\n",
            "425\n",
            "426\n",
            "427\n",
            "428\n",
            "429\n",
            "430\n",
            "431\n",
            "432\n",
            "433\n",
            "434\n",
            "435\n",
            "436\n",
            "437\n",
            "438\n",
            "439\n",
            "440\n",
            "441\n",
            "442\n",
            "443\n",
            "444\n",
            "445\n",
            "446\n",
            "447\n",
            "448\n",
            "449\n",
            "450\n",
            "451\n",
            "452\n",
            "453\n",
            "454\n",
            "455\n",
            "456\n",
            "457\n",
            "458\n",
            "459\n",
            "460\n",
            "461\n",
            "462\n",
            "463\n",
            "464\n",
            "465\n",
            "466\n",
            "467\n",
            "468\n",
            "469\n",
            "470\n",
            "471\n",
            "472\n",
            "473\n",
            "474\n",
            "475\n",
            "476\n",
            "477\n",
            "478\n",
            "479\n",
            "480\n",
            "481\n",
            "482\n",
            "483\n",
            "484\n",
            "485\n",
            "486\n",
            "487\n",
            "488\n",
            "489\n",
            "490\n",
            "491\n",
            "492\n",
            "493\n",
            "494\n",
            "495\n",
            "496\n",
            "497\n",
            "498\n",
            "499\n",
            "500\n",
            "501\n"
          ]
        }
      ],
      "source": [
        "from stackapi import StackAPI\n",
        "\n",
        "user_tags_dict={}\n",
        "count=1;\n",
        "for i in user_id:\n",
        "  count=count+1\n",
        "  print(count)\n",
        "  SITE = StackAPI('stackoverflow',key='44hpaaJESWN4fN22RgRZTg((')\n",
        "  comments = SITE.fetch('users/{id}/top-answer-tags',id=[i])\n",
        "  one_user_tag=[]\n",
        "  for j in range(len(comments['items'])):\n",
        "    one_user_tag.append(str(comments['items'][j][\"tag_name\"]))\n",
        "  user_tags_dict[i]=one_user_tag\n"
      ]
    },
    {
      "cell_type": "code",
      "execution_count": null,
      "metadata": {
        "colab": {
          "base_uri": "https://localhost:8080/"
        },
        "id": "13VPLpq22dCW",
        "outputId": "8151dea5-c33d-4be1-b29f-3b4455cd76c8"
      },
      "outputs": [
        {
          "output_type": "execute_result",
          "data": {
            "text/plain": [
              "['python',\n",
              " 'python-3.x',\n",
              " 'python-2.7',\n",
              " 'list',\n",
              " 'dictionary',\n",
              " 'string',\n",
              " 'flask',\n",
              " 'json',\n",
              " 'python-internals',\n",
              " 'python-requests']"
            ]
          },
          "metadata": {},
          "execution_count": 8
        }
      ],
      "source": [
        "user_tags_dict['100297'][0:10]"
      ]
    },
    {
      "cell_type": "code",
      "execution_count": null,
      "metadata": {
        "id": "Zsv9bZhI2lFg"
      },
      "outputs": [],
      "source": [
        "import pickle\n",
        "file_name='User_Id.pkl'\n",
        "f = open(file_name,'wb')\n",
        "pickle.dump(user_id,f)\n",
        "f.close()"
      ]
    },
    {
      "cell_type": "code",
      "source": [
        "import pickle\n",
        "file_name='user_tags_dict.pkl'\n",
        "f = open(file_name,'wb')\n",
        "pickle.dump(user_tags_dict,f)\n",
        "f.close()"
      ],
      "metadata": {
        "id": "cbVde49Ko18Y"
      },
      "execution_count": null,
      "outputs": []
    },
    {
      "cell_type": "code",
      "source": [
        ""
      ],
      "metadata": {
        "id": "7OBsXDvzZEtK"
      },
      "execution_count": null,
      "outputs": []
    },
    {
      "cell_type": "code",
      "source": [
        "list_tags=list(user_tags_dict.values())\n",
        "  "
      ],
      "metadata": {
        "id": "f-h4DcyrZPYn"
      },
      "execution_count": null,
      "outputs": []
    },
    {
      "cell_type": "code",
      "source": [
        "list_tags[0][0:15]"
      ],
      "metadata": {
        "id": "fBfYECwEfAVf",
        "colab": {
          "base_uri": "https://localhost:8080/"
        },
        "outputId": "4f2af78b-9ae4-4c3c-fcba-8f8da397fcd6"
      },
      "execution_count": null,
      "outputs": [
        {
          "output_type": "execute_result",
          "data": {
            "text/plain": [
              "['c#',\n",
              " 'java',\n",
              " '.net',\n",
              " 'linq',\n",
              " 'string',\n",
              " 'generics',\n",
              " 'date',\n",
              " 'timezone',\n",
              " 'multithreading',\n",
              " 'reflection',\n",
              " 'arrays',\n",
              " 'datetime',\n",
              " 'list',\n",
              " 'xml',\n",
              " 'constructor']"
            ]
          },
          "metadata": {},
          "execution_count": 28
        }
      ]
    },
    {
      "cell_type": "code",
      "source": [
        "total_tags_users=[]\n",
        "for i in range(len(list_tags)):\n",
        "  total_tags_users.extend(list_tags[i][0:15])"
      ],
      "metadata": {
        "id": "ChhFAtvCDHDZ"
      },
      "execution_count": null,
      "outputs": []
    },
    {
      "cell_type": "code",
      "source": [
        "unique_combined_tags_users=set(total_tags_users)"
      ],
      "metadata": {
        "id": "sUEMO7jlEY6w"
      },
      "execution_count": null,
      "outputs": []
    },
    {
      "cell_type": "code",
      "source": [
        "import pickle\n",
        "# file_name='total_tags_users.pkl'\n",
        "# f = open(total_tags_users,'wb')\n",
        "# pickle.dump(users,f)\n",
        "# f.close()\n",
        "with open('total_tags_users.pkl', 'wb') as f:\n",
        "  pickle.dump(total_tags_users, f)"
      ],
      "metadata": {
        "id": "5-KTA6bMEcPd"
      },
      "execution_count": null,
      "outputs": []
    },
    {
      "cell_type": "code",
      "source": [
        "# tags/{tags}/wikis"
      ],
      "metadata": {
        "id": "wu5XbAySEkJi"
      },
      "execution_count": null,
      "outputs": []
    },
    {
      "cell_type": "code",
      "source": [
        "import pickle\n",
        "with open('unique_combined_tags_users.pkl', 'wb') as f:\n",
        "  pickle.dump(unique_combined_tags_users, f)\n",
        "unique_tags_dict_wiki={}\n",
        "empty_tags_wiki=[]"
      ],
      "metadata": {
        "id": "2EWcy-N0FK9h"
      },
      "execution_count": null,
      "outputs": []
    },
    {
      "cell_type": "code",
      "source": [
        "from stackapi import StackAPI\n",
        "\n",
        "\n",
        "for i in unique_combined_tags_users:\n",
        "  if i not in unique_tags_dict_wiki.keys() and i not in empty_tags_wiki:\n",
        "    print(i)\n",
        "    SITE = StackAPI('stackoverflow',key='44hpaaJESWN4fN22RgRZTg((')\n",
        "    comments = SITE.fetch('tags/{tags}/wikis',tags=[i])\n",
        "    try:\n",
        "      unique_tags_dict_wiki[i]=comments['items'][0]['excerpt']\n",
        "    except:\n",
        "      empty_tags_wiki.append(i)"
      ],
      "metadata": {
        "colab": {
          "base_uri": "https://localhost:8080/"
        },
        "id": "elgISZzwF3mG",
        "outputId": "0de23b85-1dbc-4018-c141-17f29035bfeb"
      },
      "execution_count": null,
      "outputs": [
        {
          "output_type": "stream",
          "name": "stdout",
          "text": [
            "flutter-debug\n",
            "group-by\n",
            "uibutton\n",
            "jlabel\n",
            "protractor\n",
            "sql-order-by\n",
            "character-encoding\n",
            "alter-table\n",
            "git-fetch\n",
            "png\n",
            "loops\n",
            "lint\n",
            "encoding\n",
            "long-click\n",
            "projection\n",
            "java-stream\n",
            "amazon-web-services\n",
            "dll\n",
            "regex\n",
            "sql-server-2016\n",
            "django-rest-framework\n",
            "aggregate\n",
            "task\n",
            "methods\n",
            "protocols\n",
            "event-bubbling\n",
            "memory\n",
            "security\n",
            "colorbar\n",
            "go\n",
            "node.js\n",
            "combine\n",
            "css-hack\n",
            "console-application\n",
            "docker-container\n",
            "colors\n",
            "ignore\n",
            "gnu-make\n",
            "bindparam\n",
            "android-design-library\n",
            "express\n",
            "nullpointerexception\n",
            "select\n",
            "numpy-ndarray\n",
            "row\n",
            "case\n",
            "layout\n",
            "jslint\n",
            "internet-explorer\n",
            "f#\n",
            "swift\n",
            "css-transforms\n",
            "custom-fields\n",
            "pointers\n",
            "typescript2.0\n",
            "scaffold\n",
            "virtualenv\n",
            "java-web-start\n",
            "sinatra\n",
            "reactjs-flux\n",
            "visual-c++\n",
            "process\n",
            "core-animation\n",
            "dapper\n",
            "ef-core-2.0\n",
            "datetime\n",
            "mercurial\n"
          ]
        }
      ]
    },
    {
      "cell_type": "code",
      "source": [
        "SITE = StackAPI('stackoverflow',key='44hpaaJESWN4fN22RgRZTg((')\n",
        "comments = SITE.fetch('tags/{tags}/wikis',tags=['flutter-debug'])"
      ],
      "metadata": {
        "id": "9tdTToO_KWvF"
      },
      "execution_count": null,
      "outputs": []
    },
    {
      "cell_type": "code",
      "source": [
        "comments['items'][0]['excerpt']"
      ],
      "metadata": {
        "colab": {
          "base_uri": "https://localhost:8080/",
          "height": 35
        },
        "id": "hDBv67LBLb6G",
        "outputId": "33ed0e9b-0d54-4f80-c7bf-072928aa48d7"
      },
      "execution_count": null,
      "outputs": [
        {
          "output_type": "execute_result",
          "data": {
            "text/plain": [
              "'Valgrind is a dynamic analysis tool for Linux, OS X, Android, and Solaris systems. It can be used for profiling as well as for finding memory leaks, race conditions, and threading errors.'"
            ],
            "application/vnd.google.colaboratory.intrinsic+json": {
              "type": "string"
            }
          },
          "metadata": {},
          "execution_count": 94
        }
      ]
    },
    {
      "cell_type": "code",
      "source": [
        "comments"
      ],
      "metadata": {
        "colab": {
          "base_uri": "https://localhost:8080/"
        },
        "id": "BrfMerxQLzNy",
        "outputId": "f46fc166-f4ad-43ad-c3d1-d6d2090c8d15"
      },
      "execution_count": null,
      "outputs": [
        {
          "output_type": "execute_result",
          "data": {
            "text/plain": [
              "{'backoff': 0,\n",
              " 'has_more': False,\n",
              " 'items': [{'body_last_edit_date': 1438429880,\n",
              "   'excerpt': 'Microsoft SQL Server Management Studio is a graphical tool for configuring, managing, and administering all components within Microsoft SQL Server. ',\n",
              "   'excerpt_last_edit_date': 1425567040,\n",
              "   'tag_name': 'ssms'}],\n",
              " 'page': 1,\n",
              " 'quota_max': 10000,\n",
              " 'quota_remaining': 3268,\n",
              " 'total': 0}"
            ]
          },
          "metadata": {},
          "execution_count": 107
        }
      ]
    },
    {
      "cell_type": "code",
      "source": [
        "empty_tags_wiki"
      ],
      "metadata": {
        "colab": {
          "base_uri": "https://localhost:8080/"
        },
        "id": "p2Xzxh_yNIOu",
        "outputId": "fa89f858-ddad-4fdf-f00f-9b0a2c253920"
      },
      "execution_count": null,
      "outputs": [
        {
          "output_type": "execute_result",
          "data": {
            "text/plain": [
              "['object-comparison',\n",
              " 'rst2html.py',\n",
              " 'remote-branch',\n",
              " 'redux-store',\n",
              " 'flutter-widget',\n",
              " 'pass-data',\n",
              " 'angular-observable',\n",
              " 'shorthand',\n",
              " 'git-show',\n",
              " 'git-hash',\n",
              " 'table-structure',\n",
              " 'gpg-signature',\n",
              " 'angular2-testing',\n",
              " 'urlhelper',\n",
              " 'multilinestring',\n",
              " 'intellij-inspections',\n",
              " 'ng-build',\n",
              " 'revision-history',\n",
              " 'on-clause',\n",
              " 'statefulwidget',\n",
              " 'remote-connection',\n",
              " 'browser-bugs',\n",
              " 'line-count',\n",
              " 'ruby-block',\n",
              " 'angular2-observables',\n",
              " 'font-awesome-4',\n",
              " 'standard-layout',\n",
              " 'application-name',\n",
              " 'leading-zero',\n",
              " 'long-lines',\n",
              " 'dynamic-function',\n",
              " 'angular2-changedetection',\n",
              " 'redo',\n",
              " 'price',\n",
              " 'terminal-color',\n",
              " 'flutter-run',\n",
              " 'glow',\n",
              " 'flutter-debug',\n",
              " 'scaffold']"
            ]
          },
          "metadata": {},
          "execution_count": 113
        }
      ]
    },
    {
      "cell_type": "code",
      "source": [
        "import pickle\n",
        "file_name='unique_tags_dict_wiki.pkl'\n",
        "f = open(file_name,'wb')\n",
        "pickle.dump(unique_tags_dict_wiki,f)\n",
        "f.close()"
      ],
      "metadata": {
        "id": "o-9tPKtYOIQb"
      },
      "execution_count": null,
      "outputs": []
    },
    {
      "cell_type": "code",
      "source": [
        "import pickle\n",
        "file_name='unique_tags_dict_wiki.pkl'\n",
        "f = open(unique_tags_dict_wiki,'wb')\n",
        "pickle.dump(unique_tags_dict_wiki,f)\n",
        "f.close()"
      ],
      "metadata": {
        "colab": {
          "base_uri": "https://localhost:8080/"
        },
        "id": "WPhRfXk3jkC7",
        "outputId": "db234d41-9969-4da1-fc8e-92f8dce22ef4"
      },
      "execution_count": null,
      "outputs": [
        {
          "output_type": "stream",
          "name": "stdout",
          "text": [
            "<class 'dict'>\n"
          ]
        }
      ]
    },
    {
      "cell_type": "code",
      "source": [
        "import pickle\n",
        "with open('empty_tags_wiki.pkl', 'wb') as f:\n",
        "  pickle.dump(empty_tags_wiki, f)"
      ],
      "metadata": {
        "id": "zuWcm9Ckjmrz"
      },
      "execution_count": null,
      "outputs": []
    },
    {
      "cell_type": "code",
      "source": [
        "print(len(unique_tags_dict_wiki))"
      ],
      "metadata": {
        "colab": {
          "base_uri": "https://localhost:8080/"
        },
        "id": "OpfeLfpzkfPA",
        "outputId": "60762cb8-c740-4b70-f9da-d5c6e708a8be"
      },
      "execution_count": null,
      "outputs": [
        {
          "output_type": "stream",
          "name": "stdout",
          "text": [
            "1615\n"
          ]
        }
      ]
    },
    {
      "cell_type": "code",
      "source": [
        ""
      ],
      "metadata": {
        "id": "AsUS5NZSklup"
      },
      "execution_count": null,
      "outputs": []
    }
  ],
  "metadata": {
    "colab": {
      "name": "Thesis_data_collection",
      "provenance": []
    },
    "kernelspec": {
      "display_name": "Python 3",
      "name": "python3"
    },
    "language_info": {
      "name": "python"
    }
  },
  "nbformat": 4,
  "nbformat_minor": 0
}