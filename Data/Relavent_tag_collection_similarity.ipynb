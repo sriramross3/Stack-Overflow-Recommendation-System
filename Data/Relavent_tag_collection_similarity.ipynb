{
  "nbformat": 4,
  "nbformat_minor": 0,
  "metadata": {
    "colab": {
      "name": "Relavent_tag_collection_similarity.ipynb",
      "provenance": []
    },
    "kernelspec": {
      "name": "python3",
      "display_name": "Python 3"
    },
    "language_info": {
      "name": "python"
    }
  },
  "cells": [
    {
      "cell_type": "markdown",
      "source": [
        "This workboon has both relavent tag collection and bert similarity. At last this book contains graph of tag similarity count graph."
      ],
      "metadata": {
        "id": "OBMax_A-azHy"
      }
    },
    {
      "cell_type": "code",
      "execution_count": 2,
      "metadata": {
        "colab": {
          "base_uri": "https://localhost:8080/"
        },
        "id": "vI7Ax8CDi5mb",
        "outputId": "ff78aae2-0b14-4ee9-a9d1-90cfb44cc91d"
      },
      "outputs": [
        {
          "output_type": "stream",
          "name": "stdout",
          "text": [
            "Looking in indexes: https://pypi.org/simple, https://us-python.pkg.dev/colab-wheels/public/simple/\n",
            "Requirement already satisfied: stackapi in /usr/local/lib/python3.7/dist-packages (0.2.0)\n",
            "Requirement already satisfied: requests in /usr/local/lib/python3.7/dist-packages (from stackapi) (2.23.0)\n",
            "Requirement already satisfied: six in /usr/local/lib/python3.7/dist-packages (from stackapi) (1.15.0)\n",
            "Requirement already satisfied: certifi>=2017.4.17 in /usr/local/lib/python3.7/dist-packages (from requests->stackapi) (2022.6.15)\n",
            "Requirement already satisfied: chardet<4,>=3.0.2 in /usr/local/lib/python3.7/dist-packages (from requests->stackapi) (3.0.4)\n",
            "Requirement already satisfied: idna<3,>=2.5 in /usr/local/lib/python3.7/dist-packages (from requests->stackapi) (2.10)\n",
            "Requirement already satisfied: urllib3!=1.25.0,!=1.25.1,<1.26,>=1.21.1 in /usr/local/lib/python3.7/dist-packages (from requests->stackapi) (1.24.3)\n"
          ]
        }
      ],
      "source": [
        "!pip install stackapi"
      ]
    },
    {
      "cell_type": "code",
      "source": [
        "from stackapi import StackAPI\n",
        "SITE = StackAPI('stackoverflow')"
      ],
      "metadata": {
        "id": "4jhsMgrBi902"
      },
      "execution_count": 2,
      "outputs": []
    },
    {
      "cell_type": "code",
      "source": [
        "import pandas as pd\n",
        "# import nltk\n",
        "unique_tags_dict_wiki = pd.read_pickle(r'/content/unique_tags_dict_wiki.pkl')\n",
        "user_tags_dict = pd.read_pickle(r'/content/user_tags_dict.pkl')\n",
        "userid = pd.read_pickle(r'/content/User_Id.pkl')\n",
        "final_most_relevant_tag_old= pd.read_pickle(r'/content/final_most_relevant_tag.pkl')\n",
        "relevant_tag=pd.read_pickle(r'/content/relavent_tag.pkl')\n",
        "prep_rocessed_tag_wiki_for_Sentence_similarity=pd.read_pickle(r'/content/prep_rocessed_tag_wiki_for_Sentence_similarity.pkl')"
      ],
      "metadata": {
        "id": "fCRsKIqUjO-2"
      },
      "execution_count": 100,
      "outputs": []
    },
    {
      "cell_type": "code",
      "source": [
        "tags=list(unique_tags_dict_wiki.keys())\n",
        "SITE = StackAPI('stackoverflow', key='44hpaaJESWN4fN22RgRZTg((')"
      ],
      "metadata": {
        "id": "TOE3WdOnjnAY"
      },
      "execution_count": 5,
      "outputs": []
    },
    {
      "cell_type": "code",
      "source": [
        "def relevant_tag_collection(tag_name):\n",
        "  relavent_tags=[]\n",
        "  comments = SITE.fetch('tags/{tags}/related',tags={tag_name})\n",
        "  for i in range(len((comments['items']))):\n",
        "    relavent_tags.append(comments['items'][i]['name'])\n",
        "  return relavent_tags"
      ],
      "metadata": {
        "id": "6AewFiIjobV6"
      },
      "execution_count": 6,
      "outputs": []
    },
    {
      "cell_type": "code",
      "source": [
        "relavent_tag={}\n"
      ],
      "metadata": {
        "id": "mLX2FcBfoeSG"
      },
      "execution_count": 7,
      "outputs": []
    },
    {
      "cell_type": "code",
      "source": [
        "for tag in tags:\n",
        "  if tag not in relavent_tag.keys():\n",
        "    SITE = StackAPI('stackoverflow',key='44hpaaJESWN4fN22RgRZTg((')\n",
        "    relavent_tag[tag]=relevant_tag_collection(tag)"
      ],
      "metadata": {
        "id": "eR43bQFjVFWS"
      },
      "execution_count": 8,
      "outputs": []
    },
    {
      "cell_type": "code",
      "source": [
        "import pickle\n",
        "with open('relavent_tag.pkl', 'wb') as f:\n",
        "  pickle.dump(relavent_tag, f)"
      ],
      "metadata": {
        "id": "nl9X2GFKJfT9"
      },
      "execution_count": null,
      "outputs": []
    },
    {
      "cell_type": "code",
      "source": [
        "!pip install sent2vec\n"
      ],
      "metadata": {
        "colab": {
          "base_uri": "https://localhost:8080/",
          "height": 1000
        },
        "id": "vADqngU4Z_nc",
        "outputId": "c01b4470-08f7-40e3-e504-9c1511c7ab85"
      },
      "execution_count": 3,
      "outputs": [
        {
          "output_type": "stream",
          "name": "stdout",
          "text": [
            "Looking in indexes: https://pypi.org/simple, https://us-python.pkg.dev/colab-wheels/public/simple/\n",
            "Requirement already satisfied: sent2vec in /usr/local/lib/python3.7/dist-packages (0.3.0)\n",
            "Requirement already satisfied: torch in /usr/local/lib/python3.7/dist-packages (from sent2vec) (1.12.0+cu113)\n",
            "Requirement already satisfied: transformers in /usr/local/lib/python3.7/dist-packages (from sent2vec) (4.20.1)\n",
            "Requirement already satisfied: numpy in /usr/local/lib/python3.7/dist-packages (from sent2vec) (1.21.6)\n",
            "Requirement already satisfied: pytest in /usr/local/lib/python3.7/dist-packages (from sent2vec) (3.6.4)\n",
            "Requirement already satisfied: gensim in /usr/local/lib/python3.7/dist-packages (from sent2vec) (3.6.0)\n",
            "Requirement already satisfied: spacy in /usr/local/lib/python3.7/dist-packages (from sent2vec) (3.3.1)\n",
            "Requirement already satisfied: six>=1.5.0 in /usr/local/lib/python3.7/dist-packages (from gensim->sent2vec) (1.15.0)\n",
            "Requirement already satisfied: smart-open>=1.2.1 in /usr/local/lib/python3.7/dist-packages (from gensim->sent2vec) (5.2.1)\n",
            "Requirement already satisfied: scipy>=0.18.1 in /usr/local/lib/python3.7/dist-packages (from gensim->sent2vec) (1.7.3)\n",
            "Requirement already satisfied: atomicwrites>=1.0 in /usr/local/lib/python3.7/dist-packages (from pytest->sent2vec) (1.4.1)\n",
            "Requirement already satisfied: attrs>=17.4.0 in /usr/local/lib/python3.7/dist-packages (from pytest->sent2vec) (21.4.0)\n",
            "Requirement already satisfied: more-itertools>=4.0.0 in /usr/local/lib/python3.7/dist-packages (from pytest->sent2vec) (8.13.0)\n",
            "Requirement already satisfied: pluggy<0.8,>=0.5 in /usr/local/lib/python3.7/dist-packages (from pytest->sent2vec) (0.7.1)\n",
            "Requirement already satisfied: py>=1.5.0 in /usr/local/lib/python3.7/dist-packages (from pytest->sent2vec) (1.11.0)\n",
            "Requirement already satisfied: setuptools in /usr/local/lib/python3.7/dist-packages (from pytest->sent2vec) (57.4.0)\n",
            "Requirement already satisfied: tqdm<5.0.0,>=4.38.0 in /usr/local/lib/python3.7/dist-packages (from spacy->sent2vec) (4.64.0)\n",
            "Requirement already satisfied: catalogue<2.1.0,>=2.0.6 in /usr/local/lib/python3.7/dist-packages (from spacy->sent2vec) (2.0.7)\n",
            "Requirement already satisfied: spacy-legacy<3.1.0,>=3.0.9 in /usr/local/lib/python3.7/dist-packages (from spacy->sent2vec) (3.0.9)\n",
            "Requirement already satisfied: blis<0.8.0,>=0.4.0 in /usr/local/lib/python3.7/dist-packages (from spacy->sent2vec) (0.7.8)\n",
            "Requirement already satisfied: typer<0.5.0,>=0.3.0 in /usr/local/lib/python3.7/dist-packages (from spacy->sent2vec) (0.4.2)\n",
            "Requirement already satisfied: langcodes<4.0.0,>=3.2.0 in /usr/local/lib/python3.7/dist-packages (from spacy->sent2vec) (3.3.0)\n",
            "Requirement already satisfied: jinja2 in /usr/local/lib/python3.7/dist-packages (from spacy->sent2vec) (2.11.3)\n",
            "Requirement already satisfied: preshed<3.1.0,>=3.0.2 in /usr/local/lib/python3.7/dist-packages (from spacy->sent2vec) (3.0.6)\n",
            "Requirement already satisfied: wasabi<1.1.0,>=0.9.1 in /usr/local/lib/python3.7/dist-packages (from spacy->sent2vec) (0.9.1)\n",
            "Requirement already satisfied: requests<3.0.0,>=2.13.0 in /usr/local/lib/python3.7/dist-packages (from spacy->sent2vec) (2.23.0)\n",
            "Requirement already satisfied: srsly<3.0.0,>=2.4.3 in /usr/local/lib/python3.7/dist-packages (from spacy->sent2vec) (2.4.3)\n",
            "Requirement already satisfied: typing-extensions<4.2.0,>=3.7.4 in /usr/local/lib/python3.7/dist-packages (from spacy->sent2vec) (4.1.1)\n",
            "Requirement already satisfied: thinc<8.1.0,>=8.0.14 in /usr/local/lib/python3.7/dist-packages (from spacy->sent2vec) (8.0.17)\n",
            "Requirement already satisfied: pydantic!=1.8,!=1.8.1,<1.9.0,>=1.7.4 in /usr/local/lib/python3.7/dist-packages (from spacy->sent2vec) (1.8.2)\n",
            "Requirement already satisfied: packaging>=20.0 in /usr/local/lib/python3.7/dist-packages (from spacy->sent2vec) (21.3)\n",
            "Requirement already satisfied: murmurhash<1.1.0,>=0.28.0 in /usr/local/lib/python3.7/dist-packages (from spacy->sent2vec) (1.0.7)\n",
            "Requirement already satisfied: spacy-loggers<2.0.0,>=1.0.0 in /usr/local/lib/python3.7/dist-packages (from spacy->sent2vec) (1.0.3)\n",
            "Requirement already satisfied: cymem<2.1.0,>=2.0.2 in /usr/local/lib/python3.7/dist-packages (from spacy->sent2vec) (2.0.6)\n",
            "Requirement already satisfied: pathy>=0.3.5 in /usr/local/lib/python3.7/dist-packages (from spacy->sent2vec) (0.6.2)\n",
            "Requirement already satisfied: zipp>=0.5 in /usr/local/lib/python3.7/dist-packages (from catalogue<2.1.0,>=2.0.6->spacy->sent2vec) (3.8.1)\n",
            "Requirement already satisfied: pyparsing!=3.0.5,>=2.0.2 in /usr/local/lib/python3.7/dist-packages (from packaging>=20.0->spacy->sent2vec) (3.0.9)\n",
            "Requirement already satisfied: certifi>=2017.4.17 in /usr/local/lib/python3.7/dist-packages (from requests<3.0.0,>=2.13.0->spacy->sent2vec) (2022.6.15)\n",
            "Requirement already satisfied: idna<3,>=2.5 in /usr/local/lib/python3.7/dist-packages (from requests<3.0.0,>=2.13.0->spacy->sent2vec) (2.10)\n",
            "Requirement already satisfied: urllib3!=1.25.0,!=1.25.1,<1.26,>=1.21.1 in /usr/local/lib/python3.7/dist-packages (from requests<3.0.0,>=2.13.0->spacy->sent2vec) (1.24.3)\n",
            "Requirement already satisfied: chardet<4,>=3.0.2 in /usr/local/lib/python3.7/dist-packages (from requests<3.0.0,>=2.13.0->spacy->sent2vec) (3.0.4)\n",
            "Requirement already satisfied: click<9.0.0,>=7.1.1 in /usr/local/lib/python3.7/dist-packages (from typer<0.5.0,>=0.3.0->spacy->sent2vec) (7.1.2)\n",
            "Requirement already satisfied: MarkupSafe>=0.23 in /usr/local/lib/python3.7/dist-packages (from jinja2->spacy->sent2vec) (2.0.1)\n",
            "Requirement already satisfied: regex!=2019.12.17 in /usr/local/lib/python3.7/dist-packages (from transformers->sent2vec) (2022.6.2)\n",
            "Requirement already satisfied: huggingface-hub<1.0,>=0.1.0 in /usr/local/lib/python3.7/dist-packages (from transformers->sent2vec) (0.8.1)\n",
            "Requirement already satisfied: pyyaml>=5.1 in /usr/local/lib/python3.7/dist-packages (from transformers->sent2vec) (6.0)\n",
            "Requirement already satisfied: importlib-metadata in /usr/local/lib/python3.7/dist-packages (from transformers->sent2vec) (4.12.0)\n",
            "Requirement already satisfied: tokenizers!=0.11.3,<0.13,>=0.11.1 in /usr/local/lib/python3.7/dist-packages (from transformers->sent2vec) (0.12.1)\n",
            "Requirement already satisfied: filelock in /usr/local/lib/python3.7/dist-packages (from transformers->sent2vec) (3.7.1)\n"
          ]
        },
        {
          "output_type": "error",
          "ename": "NameError",
          "evalue": "ignored",
          "traceback": [
            "\u001b[0;31m---------------------------------------------------------------------------\u001b[0m",
            "\u001b[0;31mNameError\u001b[0m                                 Traceback (most recent call last)",
            "\u001b[0;32m<ipython-input-3-e7e0d6c20743>\u001b[0m in \u001b[0;36m<module>\u001b[0;34m()\u001b[0m\n\u001b[1;32m      1\u001b[0m \u001b[0mget_ipython\u001b[0m\u001b[0;34m(\u001b[0m\u001b[0;34m)\u001b[0m\u001b[0;34m.\u001b[0m\u001b[0msystem\u001b[0m\u001b[0;34m(\u001b[0m\u001b[0;34m'pip install sent2vec'\u001b[0m\u001b[0;34m)\u001b[0m\u001b[0;34m\u001b[0m\u001b[0;34m\u001b[0m\u001b[0m\n\u001b[0;32m----> 2\u001b[0;31m \u001b[0mvectorizer\u001b[0m \u001b[0;34m=\u001b[0m \u001b[0mVectorizer\u001b[0m\u001b[0;34m(\u001b[0m\u001b[0;34m)\u001b[0m\u001b[0;34m\u001b[0m\u001b[0;34m\u001b[0m\u001b[0m\n\u001b[0m",
            "\u001b[0;31mNameError\u001b[0m: name 'Vectorizer' is not defined"
          ]
        }
      ]
    },
    {
      "cell_type": "code",
      "source": [
        "from scipy import spatial\n",
        "from sent2vec.vectorizer import Vectorizer\n",
        "vectorizer = Vectorizer()\n",
        "def sentences_similarity(sen1,sen2):\n",
        "  sentences=[]\n",
        "  sentences.append(sen1)\n",
        "  sentences.append(sen2)\n",
        "  vectorizer.run(sentences)\n",
        "  vectors_bert = vectorizer.vectors\n",
        "  dist_1 = spatial.distance.cosine(vectors_bert[0], vectors_bert[1])\n",
        "  return dist_1"
      ],
      "metadata": {
        "colab": {
          "base_uri": "https://localhost:8080/"
        },
        "id": "nHfRB8xda7dm",
        "outputId": "db37320a-6c5d-40fc-aeb8-e7f985b85144"
      },
      "execution_count": 5,
      "outputs": [
        {
          "output_type": "stream",
          "name": "stdout",
          "text": [
            "Initializing Bert distilbert-base-uncased\n",
            "Vectorization done on cpu\n"
          ]
        },
        {
          "output_type": "stream",
          "name": "stderr",
          "text": [
            "Some weights of the model checkpoint at distilbert-base-uncased were not used when initializing DistilBertModel: ['vocab_layer_norm.bias', 'vocab_transform.weight', 'vocab_projector.bias', 'vocab_transform.bias', 'vocab_layer_norm.weight', 'vocab_projector.weight']\n",
            "- This IS expected if you are initializing DistilBertModel from the checkpoint of a model trained on another task or with another architecture (e.g. initializing a BertForSequenceClassification model from a BertForPreTraining model).\n",
            "- This IS NOT expected if you are initializing DistilBertModel from the checkpoint of a model that you expect to be exactly identical (initializing a BertForSequenceClassification model from a BertForSequenceClassification model).\n"
          ]
        }
      ]
    },
    {
      "cell_type": "code",
      "source": [
        "from scipy import spatial\n",
        "def sentences_similarity_cosine(sen1,sen2):\n",
        "  dist_1 = spatial.distance.cosine(sen1, sen1)\n",
        "  return dist_1"
      ],
      "metadata": {
        "id": "lltKUVuGewz0"
      },
      "execution_count": 23,
      "outputs": []
    },
    {
      "cell_type": "code",
      "source": [
        "preprocessed_tags_dict=list(prep_rocessed_tag_wiki_for_Sentence_similarity.values())\n",
        "vectorizer.run(preprocessed_tags_dict)\n",
        "vectors_bert = vectorizer.vectors"
      ],
      "metadata": {
        "id": "x2N3MrFXa-Y4"
      },
      "execution_count": 16,
      "outputs": []
    },
    {
      "cell_type": "code",
      "source": [
        "# import pickle\n",
        "# with open('total_index_based_tags_embedding_bert.pkl', 'wb') as f:\n",
        "#   pickle.dump(vectors_bert, f)"
      ],
      "metadata": {
        "id": "mo2Vbpi7WK9J"
      },
      "execution_count": 44,
      "outputs": []
    },
    {
      "cell_type": "code",
      "source": [
        "import sklearn\n",
        "def cosine_similarity_sklearn(vector1,vector2):\n",
        "  vectors_bert_0=[vector1]\n",
        "  vectors_bert_1=[vector2]\n",
        "  (sklearn.metrics.pairwise.cosine_similarity(vectors_bert_0,vectors_bert_1, dense_output=True)[0][0])"
      ],
      "metadata": {
        "id": "txxpeA8qbEEh"
      },
      "execution_count": 71,
      "outputs": []
    },
    {
      "cell_type": "code",
      "source": [
        "# for index in range(len(prep_rocessed_tag_wiki_for_Sentence_similarity)):\n",
        "bert_average_embedding_tags= pd.read_pickle(r'/content/bert_average_embedding_tags.pkl')"
      ],
      "metadata": {
        "id": "TzHksOEhW12s"
      },
      "execution_count": 57,
      "outputs": []
    },
    {
      "cell_type": "code",
      "source": [
        "# !pip uninstall nltk\n",
        "!pip install -U nltk\n",
        "import nltk\n",
        "nltk.download('punkt')\n",
        "def sentence_filter(raw_str):\n",
        "  import re\n",
        "  import string\n",
        "  # !pip install maketrans\n",
        "  # from string import maketrans\n",
        "  raw_str = raw_str.lower()\n",
        "  result1 = re.sub(r'\\d+', '', raw_str)\n",
        "  result1 = result1.translate(str.maketrans('', '', string.punctuation))\n",
        "  result1 = result1.strip()\n",
        "\n",
        "  # stop_words = set(stopwords.words(‘english’))\n",
        "  # from nltk.tokenize import word_tokenize\n",
        "  # tokens = word_tokenize(result1)\n",
        "  # result = [i for i in tokens if not i in stop_words]\n",
        "  from gensim.parsing.preprocessing import remove_stopwords\n",
        "  result1 = remove_stopwords(result1)\n",
        "\n",
        "\n",
        "  # stemming\n",
        "  from nltk.stem import PorterStemmer\n",
        "  from nltk.tokenize import word_tokenize\n",
        "  stemmer= PorterStemmer()\n",
        "  input_str=word_tokenize(result1)\n",
        "  result1=''\n",
        "  for word in input_str:\n",
        "      result1=result1+(stemmer.stem(word))\n",
        "      result1=result1+' '\n",
        "\n",
        "  # tokenize words\n",
        "  # from nltk.tokenize import word_tokenize\n",
        "  # word_tokenize=word_tokenize(result1)\n",
        "  return result1"
      ],
      "metadata": {
        "colab": {
          "base_uri": "https://localhost:8080/"
        },
        "id": "JAuNupVgcDV_",
        "outputId": "92b033a4-0041-4c31-914a-aabf1fb71b73"
      },
      "execution_count": 23,
      "outputs": [
        {
          "output_type": "stream",
          "name": "stdout",
          "text": [
            "Looking in indexes: https://pypi.org/simple, https://us-python.pkg.dev/colab-wheels/public/simple/\n",
            "Requirement already satisfied: nltk in /usr/local/lib/python3.7/dist-packages (3.7)\n",
            "Requirement already satisfied: regex>=2021.8.3 in /usr/local/lib/python3.7/dist-packages (from nltk) (2022.6.2)\n",
            "Requirement already satisfied: joblib in /usr/local/lib/python3.7/dist-packages (from nltk) (1.1.0)\n",
            "Requirement already satisfied: tqdm in /usr/local/lib/python3.7/dist-packages (from nltk) (4.64.0)\n",
            "Requirement already satisfied: click in /usr/local/lib/python3.7/dist-packages (from nltk) (7.1.2)\n"
          ]
        },
        {
          "output_type": "stream",
          "name": "stderr",
          "text": [
            "[nltk_data] Downloading package punkt to /root/nltk_data...\n",
            "[nltk_data]   Package punkt is already up-to-date!\n"
          ]
        }
      ]
    },
    {
      "cell_type": "code",
      "source": [
        "prep_rocessed_tag_wiki_for_Sentence_similarity={}\n",
        "for tag in tags:\n",
        "  prep_rocessed_tag_wiki_for_Sentence_similarity[tag]=sentence_filter(unique_tags_dict_wiki[tag])\n"
      ],
      "metadata": {
        "id": "4K6Rc4FGh0PT"
      },
      "execution_count": 24,
      "outputs": []
    },
    {
      "cell_type": "code",
      "source": [
        "import pickle\n",
        "with open('prep_rocessed_tag_wiki_for_Sentence_similarity.pkl', 'wb') as f:\n",
        "  pickle.dump(prep_rocessed_tag_wiki_for_Sentence_similarity, f)"
      ],
      "metadata": {
        "id": "wGEXs4HJjqpg"
      },
      "execution_count": 26,
      "outputs": []
    },
    {
      "cell_type": "code",
      "source": [
        "total_keys=list(unique_tags_dict_wiki.keys())\n",
        "most_relevant_tag_BERT={}\n",
        "all_two_tags={}\n",
        "for tag in total_keys:\n",
        "  two_tags=[]\n",
        "  two_tags.append(tag)\n",
        "  for cotag in total_keys:\n",
        "    cotag_list=[]\n",
        "    cotag_list.append(tag)\n",
        "    cotag_list.append(cotag)\n",
        "    two_tags.append(cotag_list)\n",
        "  all_two_tags[tag]=two_tags"
      ],
      "metadata": {
        "id": "Qqxm3jEWG7fo"
      },
      "execution_count": 59,
      "outputs": []
    },
    {
      "cell_type": "code",
      "source": [
        "print(cosine_similarity_sklearn(bert_average_embedding_tags['python'],bert_average_embedding_tags['pandas']))"
      ],
      "metadata": {
        "colab": {
          "base_uri": "https://localhost:8080/"
        },
        "id": "26HHVpfZdMz4",
        "outputId": "d36efa6d-d50a-4a70-b02a-d0521b9ea131"
      },
      "execution_count": 86,
      "outputs": [
        {
          "output_type": "stream",
          "name": "stdout",
          "text": [
            "None\n",
            "0.9997767\n"
          ]
        }
      ]
    },
    {
      "cell_type": "code",
      "source": [
        "count=0\n",
        "import heapq\n",
        "tag_similarity_score_sklearn={}\n",
        "catch_list=[]\n",
        "for tag_name in total_keys:\n",
        "  co_tag_list=list(all_two_tags[tag_name])\n",
        "  similarity_value_tag={}\n",
        "  for i in co_tag_list:\n",
        "    if len(i)==2:\n",
        "      try:\n",
        "        # first_tag=str(prep_rocessed_tag_wiki_for_Sentence_similarity[i[0]])\n",
        "        # second_tag=str(prep_rocessed_tag_wiki_for_Sentence_similarity[i[1]])\n",
        "        # similarity_value=100*sentences_similarity(first_tag,second_tag)\n",
        "        similarity_value=(sklearn.metrics.pairwise.cosine_similarity([bert_average_embedding_tags[i[0]]],[bert_average_embedding_tags[i[1]]], dense_output=True)[0][0])\n",
        "        # print(i[0])\n",
        "        # print(i[1])\n",
        "        similarity_value_tag[i[1]]=similarity_value\n",
        "        count=count+1\n",
        "      except:\n",
        "        catch_list.append(i[1])\n",
        "      # print(count)\n",
        "  # print(tag_name)\n",
        "  # tag_similarity_score_sklearn[tag_name]=similarity_value_tag\n",
        "  most_relevant_tag_BERT[tag_name]=heapq.nlargest(15, similarity_value_tag, key=similarity_value_tag.get)"
      ],
      "metadata": {
        "id": "lrTyLIednKtA"
      },
      "execution_count": 87,
      "outputs": []
    },
    {
      "cell_type": "code",
      "source": [
        "# import pickle\n",
        "# with open('bert_average_embedding_tags.pkl', 'wb') as f:\n",
        "#   pickle.dump(bert_average_embedding_tags, f)\n"
      ],
      "metadata": {
        "colab": {
          "base_uri": "https://localhost:8080/"
        },
        "id": "Fqm8I0ZoDSsx",
        "outputId": "3affdb70-a00a-4bc7-b3c4-a987106b3e21"
      },
      "execution_count": 88,
      "outputs": [
        {
          "output_type": "execute_result",
          "data": {
            "text/plain": [
              "['directory',\n",
              " 'gitignore',\n",
              " 'editor',\n",
              " 'ide',\n",
              " 'file-io',\n",
              " 'wcf',\n",
              " 'extract',\n",
              " 'dockerfile',\n",
              " 'final',\n",
              " 'material-design',\n",
              " 'modal-dialog',\n",
              " 'indy',\n",
              " 'codeigniter',\n",
              " 'entity-framework-core',\n",
              " 'grid-layout']"
            ]
          },
          "metadata": {},
          "execution_count": 88
        }
      ]
    },
    {
      "cell_type": "code",
      "source": [
        "most_relevant_tag_BERT['html']"
      ],
      "metadata": {
        "colab": {
          "base_uri": "https://localhost:8080/"
        },
        "id": "_KBxDpQMMnBb",
        "outputId": "03e14845-cb18-4225-f998-d04bcfa71ae5"
      },
      "execution_count": 95,
      "outputs": [
        {
          "output_type": "execute_result",
          "data": {
            "text/plain": [
              "['html',\n",
              " 'struct',\n",
              " 'arrays',\n",
              " 'shutdown',\n",
              " 'boost-spirit',\n",
              " 'sfinae',\n",
              " 'kotlin',\n",
              " 'qml',\n",
              " 'intellij-idea',\n",
              " 'xml',\n",
              " 'revision',\n",
              " 'heroku',\n",
              " 'amazon-web-services',\n",
              " 'asp.net-core-mvc',\n",
              " 'tensorflow']"
            ]
          },
          "metadata": {},
          "execution_count": 95
        }
      ]
    },
    {
      "cell_type": "code",
      "source": [
        "import pickle\n",
        "with open('most_relevant_tag_BERT.pkl', 'wb') as f:\n",
        "  pickle.dump(most_relevant_tag_BERT, f)"
      ],
      "metadata": {
        "id": "jA8IRfusOWJz"
      },
      "execution_count": 89,
      "outputs": []
    },
    {
      "cell_type": "code",
      "source": [
        "bert_average_embedding_tags= pd.read_pickle(r'/content/bert_average_embedding_tags.pkl')"
      ],
      "metadata": {
        "id": "SRT2wEWwVSXL"
      },
      "execution_count": 96,
      "outputs": []
    },
    {
      "cell_type": "code",
      "source": [
        "import numpy\n",
        "from numpy import array, average\n",
        "def embeddings_average(word_embeddings):\n",
        "    array_lol1 = array(word_embeddings)\n",
        "    average_vector = average(array_lol1, axis=0)\n",
        "    return average_vector\n",
        "  # array_lol2 = array(word_embeddings2)\n",
        "  # average_pandas = average(array_lol2, axis=0)"
      ],
      "metadata": {
        "id": "jX-AutqyeaZd"
      },
      "execution_count": 31,
      "outputs": []
    },
    {
      "cell_type": "code",
      "source": [
        "bert_average_embedding_tags={}\n",
        "for tag in tags:\n",
        "  bert_average_embedding_tags[tag]=embeddings_average(bert_encodings_tags[tag])\n"
      ],
      "metadata": {
        "id": "9LGE9Nb3hmM8"
      },
      "execution_count": 32,
      "outputs": []
    },
    {
      "cell_type": "code",
      "source": [
        "import pickle\n",
        "with open('bert_average_embedding_tags.pkl', 'wb') as f:\n",
        "  pickle.dump(bert_average_embedding_tags, f)"
      ],
      "metadata": {
        "id": "DiwpozNVi9F7"
      },
      "execution_count": 34,
      "outputs": []
    },
    {
      "cell_type": "code",
      "source": [
        "# to get intersection of relavent tags from Chars2Vec and stackovwerflow data. \n",
        "\n",
        "tags=list(unique_tags_dict_wiki.keys())\n",
        "intersection_tags_count={}\n",
        "def intersection_two_dict(x):\n",
        "  a=final_most_relevant_tag_old[x]\n",
        "  b=relevant_tag[x]\n",
        "  return list(set(a) & set(b))\n",
        "for tag in tags:\n",
        "  intersection_tags_count[tag]=len(intersection_two_dict(tag))"
      ],
      "metadata": {
        "id": "oJmMa3GuSTLi"
      },
      "execution_count": 102,
      "outputs": []
    },
    {
      "cell_type": "code",
      "source": [
        "tags=list(unique_tags_dict_wiki.keys())\n",
        "intersection_tags_count_char2vec={}\n",
        "def intersection_two_dict(x):\n",
        "  a=final_most_relevant_tag_old[x]\n",
        "  b=relevant_tag[x]\n",
        "  return list(set(a) & set(b))\n",
        "for tag in tags:\n",
        "  intersection_tags_count_char2vec[tag]=len(intersection_two_dict(tag))"
      ],
      "metadata": {
        "id": "3w6jmwnySX2M"
      },
      "execution_count": 116,
      "outputs": []
    },
    {
      "cell_type": "code",
      "source": [
        "\n",
        "tags=list(unique_tags_dict_wiki.keys())\n",
        "intersection_tags_count_bert={}\n",
        "def intersection_two_dict(x):\n",
        "  a=most_relevant_tag_BERT[x]\n",
        "  b=relevant_tag[x]\n",
        "  return list(set(a) & set(b))\n",
        "for tag in tags:\n",
        "  intersection_tags_count_bert[tag]=len(intersection_two_dict(tag))"
      ],
      "metadata": {
        "id": "vDdzJfwUUSkC"
      },
      "execution_count": 109,
      "outputs": []
    },
    {
      "cell_type": "code",
      "source": [
        "dict_filter = lambda x, y: dict([ (i,x[i]) for i in x if i in set(y) ])\n",
        "import random\n",
        "random_dict_keys=r = [random.choice(list(intersection_tags_count_bert)) for i in range(8)]\n",
        "small_dict_bert=dict_filter(intersection_tags_count_bert, random_dict_keys)\n",
        "small_dict_char2vec=dict_filter(intersection_tags_count_char2vec, random_dict_keys)"
      ],
      "metadata": {
        "id": "FGcNgD1jU6pC"
      },
      "execution_count": 160,
      "outputs": []
    },
    {
      "cell_type": "code",
      "source": [
        "import numpy as np\n",
        "import matplotlib.pyplot as plt\n",
        "\n",
        "\n",
        "from matplotlib.pyplot import figure\n",
        "X = np.arange(len(small_dict_bert))\n",
        "ax = plt.subplot(111)\n",
        "ax.bar(X, small_dict_bert.values(), width=0.2, color='b', align='center')\n",
        "ax.bar(X-0.2, small_dict_char2vec.values(), width=0.2, color='g', align='center')\n",
        "ax.legend(('BERT','Char2Vec'))\n",
        "plt.xticks(X, small_dict_bert.keys())\n",
        "plt.title(\"Intersection score\", fontsize=17)\n",
        "plt.gcf().autofmt_xdate()    \n",
        "figure(figsize=(90, 92), dpi=80)\n",
        "\n",
        "plt.show()"
      ],
      "metadata": {
        "colab": {
          "base_uri": "https://localhost:8080/",
          "height": 325
        },
        "id": "s2sh5ECxYf4c",
        "outputId": "c8043bf0-319d-461f-8435-86728993284f"
      },
      "execution_count": 161,
      "outputs": [
        {
          "output_type": "display_data",
          "data": {
            "text/plain": [
              "<Figure size 432x288 with 1 Axes>"
            ],
            "image/png": "[encoded data removed]"
          },
          "metadata": {
            "needs_background": "light"
          }
        },
        {
          "output_type": "display_data",
          "data": {
            "text/plain": [
              "<Figure size 7200x7360 with 0 Axes>"
            ]
          },
          "metadata": {}
        }
      ]
    },
    {
      "cell_type": "code",
      "source": [
        "Bert_count=0\n",
        "char2vec=0\n",
        "for tag in tags:\n",
        "  if intersection_tags_count_bert[tag]>intersection_tags_count_char2vec[tag]:\n",
        "    Bert_count=Bert_count+1\n",
        "  elif intersection_tags_count_char2vec[tag]>intersection_tags_count_bert[tag]:\n",
        "    char2vec=char2vec+1"
      ],
      "metadata": {
        "id": "SVyhoq_9Y6Bu"
      },
      "execution_count": 168,
      "outputs": []
    },
    {
      "cell_type": "code",
      "source": [
        "Bert_count"
      ],
      "metadata": {
        "colab": {
          "base_uri": "https://localhost:8080/"
        },
        "id": "GVUwg0_bcmcG",
        "outputId": "8cae9877-1bb1-4ae5-f9aa-4c0796a865bc"
      },
      "execution_count": 169,
      "outputs": [
        {
          "output_type": "execute_result",
          "data": {
            "text/plain": [
              "481"
            ]
          },
          "metadata": {},
          "execution_count": 169
        }
      ]
    },
    {
      "cell_type": "code",
      "source": [
        "char2vec"
      ],
      "metadata": {
        "colab": {
          "base_uri": "https://localhost:8080/"
        },
        "id": "4grZIyHLg2zZ",
        "outputId": "2da26ccf-aa54-4712-e1df-ba21d7ed171d"
      },
      "execution_count": 170,
      "outputs": [
        {
          "output_type": "execute_result",
          "data": {
            "text/plain": [
              "471"
            ]
          },
          "metadata": {},
          "execution_count": 170
        }
      ]
    },
    {
      "cell_type": "code",
      "source": [
        ""
      ],
      "metadata": {
        "id": "lPGrmeeog4F_"
      },
      "execution_count": 170,
      "outputs": []
    }
  ]
}