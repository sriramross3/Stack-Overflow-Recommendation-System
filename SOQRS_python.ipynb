{
  "nbformat": 4,
  "nbformat_minor": 0,
  "metadata": {
    "colab": {
      "provenance": []
    },
    "kernelspec": {
      "name": "python3",
      "display_name": "Python 3"
    },
    "language_info": {
      "name": "python"
    }
  },
  "cells": [
    {
      "cell_type": "code",
      "execution_count": 2,
      "metadata": {
        "colab": {
          "base_uri": "https://localhost:8080/"
        },
        "id": "CmZLv8vnhV-z",
        "outputId": "cd2a2fef-f87d-45a3-947f-35aadddf1ac9"
      },
      "outputs": [
        {
          "output_type": "stream",
          "name": "stdout",
          "text": [
            "Looking in indexes: https://pypi.org/simple, https://us-python.pkg.dev/colab-wheels/public/simple/\n",
            "Collecting stackapi\n",
            "  Downloading StackAPI-0.2.0.tar.gz (5.6 kB)\n",
            "Requirement already satisfied: requests in /usr/local/lib/python3.8/dist-packages (from stackapi) (2.23.0)\n",
            "Requirement already satisfied: six in /usr/local/lib/python3.8/dist-packages (from stackapi) (1.15.0)\n",
            "Requirement already satisfied: urllib3!=1.25.0,!=1.25.1,<1.26,>=1.21.1 in /usr/local/lib/python3.8/dist-packages (from requests->stackapi) (1.24.3)\n",
            "Requirement already satisfied: chardet<4,>=3.0.2 in /usr/local/lib/python3.8/dist-packages (from requests->stackapi) (3.0.4)\n",
            "Requirement already satisfied: idna<3,>=2.5 in /usr/local/lib/python3.8/dist-packages (from requests->stackapi) (2.10)\n",
            "Requirement already satisfied: certifi>=2017.4.17 in /usr/local/lib/python3.8/dist-packages (from requests->stackapi) (2022.12.7)\n",
            "Building wheels for collected packages: stackapi\n",
            "  Building wheel for stackapi (setup.py) ... \u001b[?25l\u001b[?25hdone\n",
            "  Created wheel for stackapi: filename=StackAPI-0.2.0-py3-none-any.whl size=5859 sha256=db4e5694413ec6654c56b595ec87a7160e783884f44944cee0fae9c4fb85b79c\n",
            "  Stored in directory: /root/.cache/pip/wheels/15/38/46/ce92f4ec7e81b3da9b2bae72b572a49a2b1b025cdce325cc01\n",
            "Successfully built stackapi\n",
            "Installing collected packages: stackapi\n",
            "Successfully installed stackapi-0.2.0\n"
          ]
        },
        {
          "output_type": "stream",
          "name": "stderr",
          "text": [
            "[nltk_data] Downloading package punkt to /root/nltk_data...\n",
            "[nltk_data]   Unzipping tokenizers/punkt.zip.\n",
            "[nltk_data] Downloading package stopwords to /root/nltk_data...\n",
            "[nltk_data]   Unzipping corpora/stopwords.zip.\n"
          ]
        },
        {
          "output_type": "execute_result",
          "data": {
            "text/plain": [
              "True"
            ]
          },
          "metadata": {},
          "execution_count": 2
        }
      ],
      "source": [
        "import pandas as pd\n",
        "import nltk\n",
        "import pandas as pd\n",
        "import numpy as np\n",
        "from sklearn.metrics.pairwise import cosine_similarity\n",
        "from scipy import sparse\n",
        "import random\n",
        "!pip install stackapi\n",
        "from stackapi import StackAPI\n",
        "unique_tags_dict_wiki = pd.read_pickle(r'/content/unique_tags_dict_wiki.pkl')\n",
        "user_tags_dict = pd.read_pickle(r'/content/user_tags_dict.pkl')\n",
        "userid = pd.read_pickle(r'/content/User_Id.pkl')\n",
        "final_most_relevant_tag_old= pd.read_pickle(r'/content/final_most_relevant_tag.pkl')\n",
        "relevant_tag=pd.read_pickle(r'/content/relavent_tag.pkl')\n",
        "nltk.download('punkt')\n",
        "nltk.download(\"stopwords\")"
      ]
    },
    {
      "cell_type": "code",
      "source": [
        "# to get intersection of relavent tags from Chars2Vec and stackovwerflow data.\n",
        "tags=list(unique_tags_dict_wiki.keys())\n",
        "intersection_tags_count={}\n",
        "def intersection_two_dict(x):\n",
        "  a=final_most_relevant_tag_old[x]\n",
        "  b=relevant_tag[x]\n",
        "  return list(set(a) & set(b))\n",
        "for tag in tags:\n",
        "  intersection_tags_count[tag]=len(intersection_two_dict(tag))\n",
        "\n",
        "# collecting all unique tags\n",
        "tags=list(unique_tags_dict_wiki.keys())\n",
        "\n",
        "# Prepaing empty one hot vector\n",
        "all_user_v={}\n",
        "for user in userid:\n",
        "  all_user_v[user]=[None]*len(tags)\n",
        "\n",
        "# this method is based on similarity calculation and relavent method from stackoverflow\n",
        "def cal_vect(user,user_v):\n",
        "  for i in range(len(tags)):\n",
        "    if tags[i] in user:\n",
        "      relavent_tags=relevant_tag[tags[i]]\n",
        "      for k in range(len(tags)):\n",
        "        for r_tag in relavent_tags:\n",
        "          if r_tag==tags[k]:\n",
        "            user_v[k]=1\n",
        "      user_v[i]=1\n",
        "    else:\n",
        "      user_v[i]=0\n",
        "  return user_v\n",
        "\n",
        "# Prepaing one hot encoding vector\n",
        "all_list=[]\n",
        "for user in userid:\n",
        "  all_list.append(cal_vect(user_tags_dict[user],all_user_v[user]))\n",
        "\n",
        "\n",
        "# adding data to one hot encoder\n",
        "import pandas as pd\n",
        "df = pd.DataFrame(all_list, columns=tags)\n",
        "data_items=df\n",
        "magnitude = np.sqrt(np.square(data_items).sum(axis=1))\n",
        "data_items = data_items.divide(magnitude, axis='index')\n",
        "\n",
        "# cosine_similarity\n",
        "def calculate_similarity(data_items):\n",
        "    \"\"\"Calculate the column-wise cosine similarity for a sparse\n",
        "    matrix. Return a new dataframe matrix with similarities.\n",
        "    \"\"\"\n",
        "    data_sparse = sparse.csr_matrix(data_items)\n",
        "    similarities = cosine_similarity(data_sparse.transpose())\n",
        "    sim = pd.DataFrame(data=similarities, index= data_items.columns, columns= data_items.columns)\n",
        "    return sim\n",
        "data_matrix = calculate_similarity(data_items)\n",
        "\n",
        "# include user index numnber\n",
        "user_index=6\n",
        "known_user_likes = data_items.iloc[user_index]\n",
        "known_user_likes = known_user_likes[known_user_likes >0].index.values\n",
        "\n",
        "user_rating_vector = data_items.iloc[user_index]\n",
        "score = data_matrix.dot(user_rating_vector).div(data_matrix.sum(axis=1))\n",
        "data_matrix.dot(user_rating_vector).div(data_matrix.sum(axis=1))\n",
        "# user_rating_vector\n",
        "score = score.drop(known_user_likes)\n",
        "# Print the known likes and the top 20 recommendations.\n",
        "# print(known_user_likes)\n",
        "predicted_list=list(score.nlargest(20).index)\n"
      ],
      "metadata": {
        "id": "OCqQzeLRheTS"
      },
      "execution_count": 3,
      "outputs": []
    },
    {
      "cell_type": "code",
      "source": [
        "# validating the model\n",
        "!pip install stackapi\n",
        "SITE = StackAPI('stackoverflow',key='44hpaaJESWN4fN22RgRZTg((')\n",
        "comments = SITE.fetch('questions/unanswered',tagged=[predicted_list])\n",
        "length=len(comments['items'])\n",
        "for l in range(length):\n",
        "  print(comments['items'][l]['title'])"
      ],
      "metadata": {
        "colab": {
          "base_uri": "https://localhost:8080/"
        },
        "id": "OQwXgVS--_DO",
        "outputId": "88a4b9c3-13bc-49a9-a94c-7d8438c208b4"
      },
      "execution_count": 4,
      "outputs": [
        {
          "output_type": "stream",
          "name": "stdout",
          "text": [
            "Looking in indexes: https://pypi.org/simple, https://us-python.pkg.dev/colab-wheels/public/simple/\n",
            "Requirement already satisfied: stackapi in /usr/local/lib/python3.8/dist-packages (0.2.0)\n",
            "Requirement already satisfied: six in /usr/local/lib/python3.8/dist-packages (from stackapi) (1.15.0)\n",
            "Requirement already satisfied: requests in /usr/local/lib/python3.8/dist-packages (from stackapi) (2.23.0)\n",
            "Requirement already satisfied: chardet<4,>=3.0.2 in /usr/local/lib/python3.8/dist-packages (from requests->stackapi) (3.0.4)\n",
            "Requirement already satisfied: idna<3,>=2.5 in /usr/local/lib/python3.8/dist-packages (from requests->stackapi) (2.10)\n",
            "Requirement already satisfied: urllib3!=1.25.0,!=1.25.1,<1.26,>=1.21.1 in /usr/local/lib/python3.8/dist-packages (from requests->stackapi) (1.24.3)\n",
            "Requirement already satisfied: certifi>=2017.4.17 in /usr/local/lib/python3.8/dist-packages (from requests->stackapi) (2022.12.7)\n",
            "How can I modify my __repr__ to respresent correctly?\n",
            "Bad string representation of negative imaginary numbers in Python\n",
            "Why I am getting error by placing self in the __repr__ method in the class in python?\n",
            "Why does Pycharm Console do this with my __repr__ method?\n",
            "Nativecall Segfaults Getting Tuple from Rust\n",
            "Why __repr__ and __str__ return a None value?\n",
            "How can I get a repr of a DataFrame that is a valid Python expression?\n",
            "python eval(repr(file_handle)) fails with synax error\n",
            "How to write a __repr__ when one of the inputs is a dataframe?\n",
            "Is there a way to search in an __repr__ similar to a string in Python\n",
            "Why do I cannot use __repr__ data outside of a class\n",
            "Cannot print object repr using __repr__ in Python\n",
            "__init__ and create a linked list in Python\n",
            "Repr of lxml node\n",
            "In Python3 the behaviour of the inbuilt repr() function has changed when compared to Python2\n",
            "Define different output for the _repr_ method when printing a list of objects\n",
            "Why does changing `__repr__` in a pandas DataFrame not change its display?\n",
            "Python __repr__ method not working as expected\n",
            "How to return a list from __repr__ in a class?\n",
            "How do I display an object&#39;s class type, and create a sorted, comma separated list?\n",
            "How can I fix the error with __repr__ in python?\n",
            "What is the difference between __repr__ and repr?\n",
            "How do I get the primitive representation of a generic enum in Rust?\n",
            "Python unittest list comparison repr problem\n",
            "Why does repr(a) truncate a.__repr__(), but f&#39;{a!r}&#39; doesn&#39;t?\n",
            "very strange behavior with __repr__ function\n",
            "In Python, how to represent a class in the same way named tuple does?\n",
            "How to use multiple instance of repr()\n",
            "How can I print Etree Element node object&#39;s attribute and its values instead of memory address of etree.Element?\n",
            "Raw strings and repr() are equivalent?\n",
            "Using the `print()` and the `repr() ` functions in python alters the number of decimal digits\n",
            "Suppressing attributes from aggregations\n",
            "Custom list representation for list of objects\n",
            "Returning a collection of rectangles from another class using built in functions\n",
            "Get the string representation of an object without loading the object into memory\n",
            "Problems understanding __repr__, doesn&#39;t print anything even I&#39;ve decleared it\n",
            "What happens if I overwrite __qualname__ of a function\n",
            "super().__repr__() not returning expected results\n",
            "django ModelForm: self: Unable to get repr for &lt;class\n",
            "double backslash replacing in python 3\n",
            "`repr` and `int` take quadratic time in Python\n",
            "comparing object with repr() is throwing NameError\n",
            "What&#39;s the best way to write a __repr__ method for a Python class when the attributes vary\n",
            "__repr__ on Windows doesn&#39;t show carriage return in terminal\n",
            "Python: Class Name? Class Type?\n",
            "Why does a failed __repr__ in Maya&#39;s python cause the next execution of anything to fail?\n",
            "Python Using PyAudio how to write microphone output to text file and read at receiver side to create wave file\n"
          ]
        }
      ]
    },
    {
      "cell_type": "code",
      "source": [],
      "metadata": {
        "id": "Fh3KdSosMFIb"
      },
      "execution_count": null,
      "outputs": []
    }
  ]
}